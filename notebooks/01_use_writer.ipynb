{
 "cells": [
  {
   "cell_type": "code",
   "execution_count": 1,
   "id": "78c31e0a-ce6d-4aa2-8662-f6957dd36d3b",
   "metadata": {},
   "outputs": [],
   "source": [
    "import os \n",
    "import sys\n",
    "sys.path.append(\"../src\")\n",
    "\n",
    "from fileio.text.readers import json_loader\n",
    "from fileio.text.writers import json_writer, jsonl_writer\n",
    "\n",
    "from fileio.dataframe.readers import df_loader\n",
    "from fileio.dataframe.writers import save_df_to_file\n"
   ]
  },
  {
   "cell_type": "markdown",
   "id": "e8551e24-dffa-4bef-9bab-a31dd8102d6f",
   "metadata": {},
   "source": [
    "# Read and Write JSON and JSONL \n",
    "We use a single function, ```json_loader```, to read both JSON and JSONL files and handle the associated logic. However, to save JSON and JSONL files, please use ```json_writer``` and ```jsonl_writer```, respectively."
   ]
  },
  {
   "cell_type": "code",
   "execution_count": 31,
   "id": "e3e618bd-da09-47ce-9e06-1e729fae3ad6",
   "metadata": {},
   "outputs": [
    {
     "name": "stdout",
     "output_type": "stream",
     "text": [
      "[{'id': 1, 'name': 'Alice', 'role': 'Researcher'}, {'id': 2, 'name': 'Bob', 'role': 'Engineer'}, {'id': 3, 'name': 'Charlie', 'role': 'Designer'}]\n",
      "{'people': [{'id': 1, 'name': 'Alice', 'role': 'Researcher'}, {'id': 2, 'name': 'Bob', 'role': 'Engineer'}, {'id': 3, 'name': 'Charlie', 'role': 'Designer'}]}\n",
      "['test.json', 'Parsons_PR.jpg', 'test.jsonl', '.ipynb_checkpoints', '01_use_writer.ipynb', 'langchain.db', '02_use_llms.ipynb']\n"
     ]
    }
   ],
   "source": [
    "###############\n",
    "#### JSONL ####\n",
    "###############\n",
    "# loading JSONL:\n",
    "a = json_loader(\"../data/sample.jsonl\")\n",
    "print(a)\n",
    "\n",
    "# Save JSONL:\n",
    "jsonl_writer(a ,\"test.jsonl\")\n",
    "\n",
    "\n",
    "###############\n",
    "#### JSON ####\n",
    "###############\n",
    "# loading JSON:\n",
    "b  = json_loader(\"../data/sample.json\")\n",
    "print(b )\n",
    "\n",
    "# Save JSON:\n",
    "json_writer(b ,\"test.json\")\n",
    "\n",
    "print(os.listdir())"
   ]
  },
  {
   "cell_type": "markdown",
   "id": "e23e21e9-5cdb-403a-9485-1e89b88cdcbc",
   "metadata": {},
   "source": [
    "# Read Tabular Data"
   ]
  },
  {
   "cell_type": "code",
   "execution_count": 2,
   "id": "3b66c8e0-9aef-4457-85e4-f36ebaad251f",
   "metadata": {},
   "outputs": [
    {
     "name": "stderr",
     "output_type": "stream",
     "text": [
      "\u001b[32m2025-04-09 21:22:05.472\u001b[0m | \u001b[1mINFO    \u001b[0m | \u001b[36mfileio.dataframe.writers\u001b[0m:\u001b[36msave_df_to_file\u001b[0m:\u001b[36m50\u001b[0m - \u001b[1mSaved DataFrame to test.parquet\u001b[0m\n"
     ]
    },
    {
     "data": {
      "text/html": [
       "<div>\n",
       "<style scoped>\n",
       "    .dataframe tbody tr th:only-of-type {\n",
       "        vertical-align: middle;\n",
       "    }\n",
       "\n",
       "    .dataframe tbody tr th {\n",
       "        vertical-align: top;\n",
       "    }\n",
       "\n",
       "    .dataframe thead th {\n",
       "        text-align: right;\n",
       "    }\n",
       "</style>\n",
       "<table border=\"1\" class=\"dataframe\">\n",
       "  <thead>\n",
       "    <tr style=\"text-align: right;\">\n",
       "      <th></th>\n",
       "      <th>Device</th>\n",
       "      <th>Type</th>\n",
       "      <th>ICC_Profile</th>\n",
       "      <th>Color_Space</th>\n",
       "    </tr>\n",
       "  </thead>\n",
       "  <tbody>\n",
       "    <tr>\n",
       "      <th>0</th>\n",
       "      <td>Monitor1</td>\n",
       "      <td>Display</td>\n",
       "      <td>sRGB IEC61966-2.1</td>\n",
       "      <td>sRGB</td>\n",
       "    </tr>\n",
       "    <tr>\n",
       "      <th>1</th>\n",
       "      <td>Printer1</td>\n",
       "      <td>Printer</td>\n",
       "      <td>AdobeRGB1998</td>\n",
       "      <td>AdobeRGB</td>\n",
       "    </tr>\n",
       "    <tr>\n",
       "      <th>2</th>\n",
       "      <td>Camera1</td>\n",
       "      <td>Camera</td>\n",
       "      <td>ProPhotoRGB</td>\n",
       "      <td>ProPhoto</td>\n",
       "    </tr>\n",
       "    <tr>\n",
       "      <th>3</th>\n",
       "      <td>Scanner1</td>\n",
       "      <td>Scanner</td>\n",
       "      <td>sRGB IEC61966-2.1</td>\n",
       "      <td>sRGB</td>\n",
       "    </tr>\n",
       "  </tbody>\n",
       "</table>\n",
       "</div>"
      ],
      "text/plain": [
       "     Device     Type        ICC_Profile Color_Space\n",
       "0  Monitor1  Display  sRGB IEC61966-2.1        sRGB\n",
       "1  Printer1  Printer       AdobeRGB1998    AdobeRGB\n",
       "2   Camera1   Camera        ProPhotoRGB    ProPhoto\n",
       "3  Scanner1  Scanner  sRGB IEC61966-2.1        sRGB"
      ]
     },
     "execution_count": 2,
     "metadata": {},
     "output_type": "execute_result"
    }
   ],
   "source": [
    "df_loader\n",
    "######################\n",
    "#### Tabluar data ####\n",
    "######################\n",
    "# Reac csv, parquet, feather\n",
    "c = df_loader(\"../data/sample.csv\")\n",
    "\n",
    "save_df_to_file(c,\"test.parquet\")\n",
    "c"
   ]
  },
  {
   "cell_type": "code",
   "execution_count": 3,
   "id": "0ece7251-53ed-4058-a39c-9e327769cb75",
   "metadata": {},
   "outputs": [],
   "source": [
    "!rm  test.jsonl\n",
    "!rm  test.json\n",
    "!rm test.parquet"
   ]
  }
 ],
 "metadata": {
  "kernelspec": {
   "display_name": "Python 3 (ipykernel)",
   "language": "python",
   "name": "python3"
  },
  "language_info": {
   "codemirror_mode": {
    "name": "ipython",
    "version": 3
   },
   "file_extension": ".py",
   "mimetype": "text/x-python",
   "name": "python",
   "nbconvert_exporter": "python",
   "pygments_lexer": "ipython3",
   "version": "3.10.8"
  }
 },
 "nbformat": 4,
 "nbformat_minor": 5
}
