{
 "cells": [
  {
   "cell_type": "code",
   "execution_count": 1,
   "id": "e5417a86-1bc8-4f5c-8a7d-bf05735be8c5",
   "metadata": {},
   "outputs": [],
   "source": [
    "import os \n",
    "import sys\n",
    "import time\n",
    "sys.path.append(\"../src\")\n",
    "\n",
    "from dotenv import load_dotenv\n",
    "load_dotenv()   # This loads the variables from a `.env` file in the current directory\n",
    "\n",
    "from llms.queryllm import QueryLLM"
   ]
  },
  {
   "cell_type": "code",
   "execution_count": 2,
   "id": "cb96f7db-2886-47d6-86d8-5f67ad4afefd",
   "metadata": {},
   "outputs": [],
   "source": [
    "##################################\n",
    "### Load API Keys and Metadata ###\n",
    "##################################\n",
    "TOGEHER_API_KEY:str      = os.getenv(\"TOGEHER_API_KEY\")\n",
    "OPENAI_API_KEY:str       = os.getenv(\"OPENAI_API_KEY\") \n",
    "parameters:dict[str,int] = {\"temperature\":0,\n",
    "                            \"max_tokens\":None,\n",
    "                            \"timeout\":10,\n",
    "                            \"max_retries\":10,\n",
    "                            \"max_tokens\":100}"
   ]
  },
  {
   "cell_type": "markdown",
   "id": "736ddbaf-fa06-48d9-b028-13da130d2e10",
   "metadata": {},
   "source": [
    "## API Call for Text-only"
   ]
  },
  {
   "cell_type": "code",
   "execution_count": 3,
   "id": "b6398579-7531-4659-a707-13577f9ef80a",
   "metadata": {},
   "outputs": [
    {
     "name": "stdout",
     "output_type": "stream",
     "text": [
      "The Space Marines are a central part of the Warhammer 40,000 science fantasy universe created by Games Workshop. They are genetically-engineered superhuman warriors who serve as the Imperium of Man's most elite and powerful fighting force.\n",
      "\n",
      "Here are some key facts about Space Marines:\n",
      "\n",
      "1. **Genetic Engineering**: Space Marines are created through a process of genetic engineering, where young recruits undergo extensive surgery and implantation of advanced technology to enhance their physical and mental abilities.\n",
      "2. **Power Armor**:\n"
     ]
    }
   ],
   "source": [
    "llm = QueryLLM(provider=\"togetherai\",\n",
    "               api_key=TOGEHER_API_KEY,\n",
    "               model=\"meta-llama/Llama-3.3-70B-Instruct-Turbo-Free\",\n",
    "               cache=\"langchain.db\",\n",
    "               parameters=parameters)\n",
    "\n",
    "response = llm.simple_query(human_message=\"Space Marine\",\n",
    "                            system_prompt=\"Answer the question\")\n",
    "print(response)"
   ]
  },
  {
   "cell_type": "markdown",
   "id": "e2fd9299-2586-445d-9c20-5b3ba3c10bbe",
   "metadata": {},
   "source": [
    "## API Call for Image-Text"
   ]
  },
  {
   "cell_type": "code",
   "execution_count": 4,
   "id": "a8a96aab-0e29-4537-9cda-37cdcb576f1f",
   "metadata": {},
   "outputs": [],
   "source": [
    "#!wget https://www.smartcitiesworld.net/AcuCustom/Sitename/DAM/019/Parsons_PR.jpg\n",
    "image_url= 'https://www.smartcitiesworld.net/AcuCustom/Sitename/DAM/019/Parsons_PR.jpg'\n",
    "message = [{\"type\": \"text\", \"text\": \"describe the weather in this image\"},\n",
    "           {\"type\": \"image_url\", \"image_url\": {\"url\": image_url}},]"
   ]
  },
  {
   "cell_type": "code",
   "execution_count": 5,
   "id": "2a3b9a8b-1a18-472b-a802-cb5bd8356382",
   "metadata": {},
   "outputs": [
    {
     "name": "stdout",
     "output_type": "stream",
     "text": [
      "The image shows a busy street with a green traffic light, indicating that vehicles are likely in motion. The weather isn't explicitly depicted, but the scene suggests a typical urban environment. The presence of cars and the clarity of the traffic light imply that visibility is good, possibly indicating clear weather. However, without specific visual cues like rain, snow, or sunlight, it's difficult to determine the exact weather conditions.\n"
     ]
    }
   ],
   "source": [
    "llm            = QueryLLM(provider=\"openai\",\n",
    "                          api_key=OPENAI_API_KEY,\n",
    "                          model=\"gpt-4o-mini\",\n",
    "                          cache=\"langchain.db\",\n",
    "                          parameters=parameters)\n",
    "\n",
    "response = llm.simple_query(human_message=message,system_prompt=\"Anwer the question\")\n",
    "print(response)"
   ]
  },
  {
   "cell_type": "code",
   "execution_count": 8,
   "id": "eeafbb9e-cf73-4c6a-9df9-99b825c55886",
   "metadata": {},
   "outputs": [],
   "source": [
    "local_image_path = \"Parsons_PR.jpg\" # Path to your image\n",
    "local_message = [{\"type\": \"text\", \"text\": \"describe the weather in this image\"},\n",
    "                 {\"type\": \"image_url\", \"image_url\": {\"url\": llm.encode_image(local_image_path)}},]"
   ]
  },
  {
   "cell_type": "code",
   "execution_count": 9,
   "id": "75bc22fc-8da9-4e9c-9a8b-60d93ea72588",
   "metadata": {},
   "outputs": [
    {
     "name": "stdout",
     "output_type": "stream",
     "text": [
      "The image shows a busy street with a green traffic light, indicating that vehicles can proceed. While the weather is not explicitly depicted, the scene suggests a typical urban environment, possibly during the day. The presence of multiple cars and the clarity of the traffic light imply that visibility is good, which might indicate clear weather. However, without specific visual cues like rain, snow, or sunlight, it's difficult to provide a detailed description of the weather conditions.\n"
     ]
    }
   ],
   "source": [
    "response = llm.simple_query(human_message=local_message,system_prompt=\"Anwer the question\")\n",
    "print(response)"
   ]
  },
  {
   "cell_type": "code",
   "execution_count": 10,
   "id": "b4863df0-43f9-463f-b742-38552a320eb6",
   "metadata": {},
   "outputs": [
    {
     "name": "stdout",
     "output_type": "stream",
     "text": [
      "Tables: [('full_llm_cache',), ('full_md5_llm_cache',)]\n",
      "Index(['prompt', 'llm', 'idx', 'response'], dtype='object')\n",
      "                                              prompt  \\\n",
      "0  [{\"lc\": 1, \"type\": \"constructor\", \"id\": [\"lang...   \n",
      "1  [{\"lc\": 1, \"type\": \"constructor\", \"id\": [\"lang...   \n",
      "2  [{\"lc\": 1, \"type\": \"constructor\", \"id\": [\"lang...   \n",
      "\n",
      "                                                 llm  idx  \\\n",
      "0  [('_type', 'together-chat'), ('max_tokens', 10...    0   \n",
      "1  {\"id\": [\"langchain\", \"chat_models\", \"openai\", ...    0   \n",
      "2  {\"id\": [\"langchain\", \"chat_models\", \"openai\", ...    0   \n",
      "\n",
      "                                            response  \n",
      "0  {\"lc\": 1, \"type\": \"constructor\", \"id\": [\"langc...  \n",
      "1  {\"lc\": 1, \"type\": \"constructor\", \"id\": [\"langc...  \n",
      "2  {\"lc\": 1, \"type\": \"constructor\", \"id\": [\"langc...  \n"
     ]
    }
   ],
   "source": [
    "import sqlite3\n",
    "import pandas as pd\n",
    "\n",
    "conn = sqlite3.connect(\"langchain.db\")\n",
    "cursor = conn.cursor()\n",
    "\n",
    "# List all tables\n",
    "cursor.execute(\"SELECT name FROM sqlite_master WHERE type='table';\")\n",
    "tables = cursor.fetchall()\n",
    "print(\"Tables:\", tables)\n",
    "\n",
    "# View one table\n",
    "df = pd.read_sql_query(\"SELECT * FROM full_llm_cache LIMIT 10;\", conn)\n",
    "print(df.columns)\n",
    "print(df)\n",
    "\n",
    "conn.close()"
   ]
  },
  {
   "cell_type": "code",
   "execution_count": null,
   "id": "dc86ff75-feeb-468b-be85-fdfe3348daf2",
   "metadata": {},
   "outputs": [],
   "source": []
  }
 ],
 "metadata": {
  "kernelspec": {
   "display_name": "Python (biomedica_index)",
   "language": "python",
   "name": "biomedica_index"
  },
  "language_info": {
   "codemirror_mode": {
    "name": "ipython",
    "version": 3
   },
   "file_extension": ".py",
   "mimetype": "text/x-python",
   "name": "python",
   "nbconvert_exporter": "python",
   "pygments_lexer": "ipython3",
   "version": "3.11.11"
  }
 },
 "nbformat": 4,
 "nbformat_minor": 5
}
